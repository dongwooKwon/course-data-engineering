{
 "cells": [
  {
   "cell_type": "code",
   "execution_count": 31,
   "id": "4b403487-69eb-4b13-8c21-2cd210b19b8d",
   "metadata": {},
   "outputs": [
    {
     "name": "stdout",
     "output_type": "stream",
     "text": [
      "Customer One Items:\n",
      "Lovely Loveseat. Tufted polyester blend on wood. 32 inches high x 40 inches wide x 30 inches deep. Red or white.Luxurious Lamp. Glass and iron. 36 inches tall. Brown with cream shade.\n",
      "Customer One Total:\n",
      "333.09119999999996\n"
     ]
    }
   ],
   "source": [
    "\"\"\"\n",
    "상품에 대한 설명과 상품의 가격 설정을 정의해 주었습니다.\n",
    "\"\"\"\n",
    "lovely_loveseat_description = 'Lovely Loveseat. Tufted polyester blend on wood. 32 inches high x 40 inches wide x 30 inches deep. Red or white.'\n",
    "lovely_loveseat_price = 254.00\n",
    "\n",
    "stylish_settee_description = 'Stylish Settee. Faux leather on birch. 29.50 inches high x 54.75 inches wide x 28 inches deep. Black.'\n",
    "stylish_settee_price = 180.50\n",
    "\n",
    "luxurious_lamp_description = 'Luxurious Lamp. Glass and iron. 36 inches tall. Brown with cream shade.'\n",
    "luxurious_lamp_price = 52.15\n",
    "\n",
    "\"\"\"\n",
    "판매세금을 정의해 주었습니다.\n",
    "\"\"\"\n",
    "sales_tax = .088\n",
    "\n",
    "\"\"\"\n",
    "고객이 상품을 구매할 때마다 각각의 상품의 설명과 가격을 추가해 주었습니다.\n",
    "\"\"\"\n",
    "customer_one_total = 0\n",
    "customer_one_itemization = ''\n",
    "\n",
    "customer_one_total +=  lovely_loveseat_price\n",
    "customer_one_itemization += lovely_loveseat_description\n",
    "\n",
    "customer_one_total += luxurious_lamp_price\n",
    "customer_one_itemization += luxurious_lamp_description\n",
    "\n",
    "\"\"\"\n",
    "앞에 정의한 판매세금을 이용해 판매세금을 붙여 주어 총 상품의 가격에 더해주었습니다.\n",
    "\"\"\"\n",
    "customer_one_tax = customer_one_total * sales_tax\n",
    "customer_one_total += customer_one_tax\n",
    "\n",
    "\n",
    "\"\"\"\n",
    "마지막으로 고객이 구입한 상품의 총 설명과, 총 가격을 출력해 주었습니다.\n",
    "\"\"\"\n",
    "print(\"Customer One Items:\")\n",
    "print(customer_one_itemization)\n",
    "print(\"Customer One Total:\")\n",
    "print(customer_one_total)"
   ]
  }
 ],
 "metadata": {
  "kernelspec": {
   "display_name": "Python 3",
   "language": "python",
   "name": "python3"
  },
  "language_info": {
   "codemirror_mode": {
    "name": "ipython",
    "version": 3
   },
   "file_extension": ".py",
   "mimetype": "text/x-python",
   "name": "python",
   "nbconvert_exporter": "python",
   "pygments_lexer": "ipython3",
   "version": "3.8.8"
  }
 },
 "nbformat": 4,
 "nbformat_minor": 5
}
