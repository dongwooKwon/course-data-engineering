{
 "cells": [
  {
   "cell_type": "code",
   "execution_count": 7,
   "id": "b07eed5d-a413-42d0-b861-ecaa80fc8008",
   "metadata": {},
   "outputs": [
    {
     "name": "stdout",
     "output_type": "stream",
     "text": [
      "[['politics', 80], ['latin', 96], ['dance', 97], ['architecture', 65], ['physics', 98], ['calculus', 97], ['poetry', 'Pass'], ['history', 88], ['computer science', 100], ['visual arts', 98]]\n"
     ]
    }
   ],
   "source": [
    "'''\n",
    "수업들과, 점수들을 리스트로 정의해 주었습니다.\n",
    "'''\n",
    "subjects = ['physics','calculs','poetry','history']\n",
    "grade = [98, 97, 85, 88]\n",
    "\n",
    "\n",
    "'''\n",
    "수업들과, 점수들을 이중 리스트로 정의해 주었습니다.\n",
    "'''\n",
    "gradebook = [['physics', 98], ['calculus', 97], ['poetry', 85], ['history', 88]]\n",
    "\n",
    "\n",
    "'''\n",
    "새로운 과목과 점수들을 apeend() 메소드를 이용해 추가해 주었습니다.\n",
    "'''\n",
    "gradebook.append(['computer science', 100])\n",
    "gradebook.append(['visual arts', 93])\n",
    "\n",
    "\n",
    "'''\n",
    "배열의 위치에 =+ 5를 하여 5를 더해주었고, append(), remove() 메소드들을 이용해서 잘못된 것을 빼고 옳은 것 들을 추가해 주었습니다.\n",
    "'''\n",
    "gradebook[5][1] += 5\n",
    "gradebook[2].remove(85)  \n",
    "gradebook[2].append('Pass')\n",
    "\n",
    "\n",
    "'''\n",
    "지난 학기의 성적이란 리스트를 새롭게 정의해 주었습니다.\n",
    "'''\n",
    "last_semester_gradebook = [[\"politics\", 80], [\"latin\", 96], [\"dance\", 97], [\"architecture\", 65]]\n",
    "\n",
    "\n",
    "'''\n",
    "지난 학기의 성적과 이번 학기의 성적을 +기호를 이용해 full_gradebook 이라는 더해진 리스트를 정의해 주었습니다.\n",
    "'''\n",
    "full_gradebook = last_semester_gradebook + gradebook\n",
    "\n",
    "\n",
    "'''\n",
    "마지막으로 full_gradebook이라는 리스트를 출력해 주었습니다.\n",
    "'''\n",
    "print(full_gradebook)"
   ]
  }
 ],
 "metadata": {
  "kernelspec": {
   "display_name": "Python 3",
   "language": "python",
   "name": "python3"
  },
  "language_info": {
   "codemirror_mode": {
    "name": "ipython",
    "version": 3
   },
   "file_extension": ".py",
   "mimetype": "text/x-python",
   "name": "python",
   "nbconvert_exporter": "python",
   "pygments_lexer": "ipython3",
   "version": "3.8.8"
  }
 },
 "nbformat": 4,
 "nbformat_minor": 5
}
