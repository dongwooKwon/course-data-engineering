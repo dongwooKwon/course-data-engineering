{
 "cells": [
  {
   "cell_type": "code",
   "execution_count": 58,
   "id": "23d50a7c-f158-4b52-8746-198f4695e09f",
   "metadata": {},
   "outputs": [
    {
     "name": "stdout",
     "output_type": "stream",
     "text": [
      "Average price is 31.875000\n",
      "[25, 20, 35, 15, 15, 30, 45, 30]\n",
      "1085\n",
      "average_daily_revenue is 155.000000\n",
      "['bouffant', 'pixie', 'crew', 'bowl']\n"
     ]
    }
   ],
   "source": [
    "\"\"\"\n",
    "제공되는 헤어스타일컷들의 이름들을 정의해 주었습니다.\n",
    "\"\"\"\n",
    "hairstyles = [\"bouffant\", \"pixie\", \"dreadlocks\", \"crew\", \"bowl\", \"bob\", \"mohawk\", \"flattop\"]\n",
    "\n",
    "\n",
    "\"\"\"\n",
    "각 컷의 가격들을 정의해 주었습니다.\n",
    "\"\"\"\n",
    "prices = [30, 25, 40, 20, 20, 35, 50, 35]\n",
    "\n",
    "\n",
    "\"\"\"\n",
    "지난주 헤어스타일 컷 들의 구매 건수를 정의해 주었습니다.\n",
    "\"\"\"\n",
    "last_week = [2, 3, 5, 8, 4, 4, 6, 2]\n",
    "\n",
    "\n",
    "\"\"\"\n",
    "총 컷들의 가격을 초기화하고, for문을 이용해 각 컷의 가격들을 모두 더해 주었습니다.\n",
    "\"\"\"\n",
    "total_price = 0\n",
    "\n",
    "for price in prices:\n",
    "    total_price += price\n",
    "    \n",
    "     \n",
    "\"\"\"\n",
    "각 컷들의 가격들을 모두 더한 후 가격들의 갯수 만큼 나눠주어 평균 가격을 정의해 주었습니다.\n",
    "\"\"\"\n",
    "average_price = total_price / len(prices)\n",
    "\n",
    "print(\"Average price is %f\" %average_price)\n",
    "\n",
    "\n",
    "\"\"\"\n",
    "for문을 이용해 원래 각 컷의 가격들에서 -5한 새로운 가격의 값을 정의해 주었습니다.\n",
    "\"\"\"\n",
    "new_prices = [price -5 for price in prices]\n",
    "print(new_prices)\n",
    "\n",
    "\n",
    "\"\"\"\n",
    "총 수익을 초기화하고, for문을 이용하여 헤어스타일컷들 마다 각 컷의 가격들과, 지난주의 판매된 컷들의 횟수들을 곱하여 총 수익에 모두 더해주고 7로 나누어서 지난주의 일주일간 수익을 정의하고 출력했습니다.\n",
    "\"\"\"\n",
    "total_revenue = 0\n",
    "\n",
    "for i in range(len(hairstyles)):\n",
    "    total_revenue += prices[i] * last_week[i]\n",
    "    \n",
    "print(total_revenue)\n",
    "    \n",
    "average_daily_revenue = total_revenue / 7\n",
    "print(\"average_daily_revenue is %f\" %average_daily_revenue)\n",
    "\n",
    "\n",
    "\"\"\"\n",
    "새로운 가격의 값을 가진 헤어스타일에서 for문에서 if를 이용해 30달러 미만인 헤어스타일들을 식별해서 정의하여 출력했습니다.\n",
    "\"\"\"\n",
    "cuts_under_30 = [hairstyles[i] for i in range(len(hairstyles))if new_prices[i] < 30 ]\n",
    "\n",
    "print(cuts_under_30)"
   ]
  }
 ],
 "metadata": {
  "kernelspec": {
   "display_name": "Python 3",
   "language": "python",
   "name": "python3"
  },
  "language_info": {
   "codemirror_mode": {
    "name": "ipython",
    "version": 3
   },
   "file_extension": ".py",
   "mimetype": "text/x-python",
   "name": "python",
   "nbconvert_exporter": "python",
   "pygments_lexer": "ipython3",
   "version": "3.8.8"
  }
 },
 "nbformat": 4,
 "nbformat_minor": 5
}
