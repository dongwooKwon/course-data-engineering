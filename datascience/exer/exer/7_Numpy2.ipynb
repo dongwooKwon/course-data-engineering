{
 "cells": [
  {
   "cell_type": "code",
   "execution_count": 2,
   "id": "3a63cc0e-c3aa-44f9-b0a9-90a0bcfe816a",
   "metadata": {},
   "outputs": [],
   "source": [
    "import numpy as np"
   ]
  },
  {
   "cell_type": "code",
   "execution_count": 5,
   "id": "02e45854-ada5-429c-8f81-8d7a3f84e7bd",
   "metadata": {},
   "outputs": [
    {
     "name": "stdout",
     "output_type": "stream",
     "text": [
      "[0 1 2]\n",
      "[3 4 5 6 7 8]\n",
      "[3 5 7]\n"
     ]
    }
   ],
   "source": [
    "# np.arange(시작값, 끝 값(포함 x), 간격)\n",
    "\n",
    "print(np.arange(3))\n",
    "print(np.arange(3, 9))\n",
    "print(np.arange(3, 9, 2))"
   ]
  },
  {
   "cell_type": "code",
   "execution_count": 35,
   "id": "7c722730-b960-4e36-9365-8217fceb9dad",
   "metadata": {},
   "outputs": [
    {
     "name": "stdout",
     "output_type": "stream",
     "text": [
      "[5 0 3 3 7 9]\n",
      "[[3 5 2 4]\n",
      " [7 6 8 8]\n",
      " [1 6 7 7]]\n",
      "[[[8 1 5 9 8]\n",
      "  [9 4 3 0 3]\n",
      "  [5 0 2 3 8]\n",
      "  [1 3 3 3 7]]\n",
      "\n",
      " [[0 1 9 9 0]\n",
      "  [4 7 3 2 7]\n",
      "  [2 0 0 4 5]\n",
      "  [5 6 8 4 1]]\n",
      "\n",
      " [[4 9 8 1 1]\n",
      "  [7 9 9 3 6]\n",
      "  [7 2 0 3 5]\n",
      "  [9 4 4 6 4]]]\n"
     ]
    }
   ],
   "source": [
    "np.random.seed(0)\n",
    "\n",
    "arr1 = np.random.randint(10, size=6)\n",
    "print(arr1)\n",
    "\n",
    "arr2 = np.random.randint(10, size=(3, 4))\n",
    "print(arr2)\n",
    "\n",
    "arr3 = np.random.randint(10, size=(3, 4, 5))\n",
    "print(arr3)"
   ]
  },
  {
   "cell_type": "code",
   "execution_count": 42,
   "id": "56373c5e-e1a6-4840-8ec4-eab92ab2eddd",
   "metadata": {},
   "outputs": [
    {
     "name": "stdout",
     "output_type": "stream",
     "text": [
      "[[3 5 2 4]\n",
      " [7 6 8 8]\n",
      " [1 6 7 7]]\n",
      "arr.ndim= 2\n",
      "arr.shape= (3, 4)\n",
      "arr.size= 12\n",
      "arr.dtype= int32\n",
      "arr.itemsize= 4\n",
      "arr.nbytes= 48\n"
     ]
    }
   ],
   "source": [
    "print(arr2)\n",
    "\n",
    "print(\"arr.ndim=\", arr2.ndim)\n",
    "print(\"arr.shape=\", arr2.shape) # **\n",
    "print(\"arr.size=\", arr2.size) # **\n",
    "\n",
    "print(\"arr.dtype=\", arr2.dtype) # **\n",
    "print(\"arr.itemsize=\", arr2.itemsize)\n",
    "print(\"arr.nbytes=\", arr2.nbytes)"
   ]
  },
  {
   "cell_type": "code",
   "execution_count": 92,
   "id": "5612e2e7-b772-421a-95c8-ba2a5843ca8c",
   "metadata": {},
   "outputs": [
    {
     "name": "stdout",
     "output_type": "stream",
     "text": [
      "[0 1 2 3 4 5 6 7 8 9]\n",
      "[3 4 5 6]\n",
      "[0 1 2 3 4]\n",
      "[5 6 7 8 9]\n",
      "[0 3 6 9]\n",
      "[2 4 6]\n"
     ]
    }
   ],
   "source": [
    "# 슬라이싱 = arr[start:stop:간격]\n",
    "\n",
    "arr = np.arange(10)\n",
    "print(arr)\n",
    "\n",
    "print(arr[3:7])\n",
    "print(arr[:5])\n",
    "print(arr[5:])\n",
    "print(arr[::3])\n",
    "print(arr[2:8:2])"
   ]
  },
  {
   "cell_type": "code",
   "execution_count": 50,
   "id": "0a09556a-a72d-4119-bfca-23a3d1ea1841",
   "metadata": {},
   "outputs": [
    {
     "name": "stdout",
     "output_type": "stream",
     "text": [
      "[[5 0 3 3 7 9 3 5]\n",
      " [2 4 7 6 8 8 1 6]\n",
      " [7 7 8 1 5 9 8 9]\n",
      " [4 3 0 3 5 0 2 3]\n",
      " [8 1 3 3 3 7 0 1]\n",
      " [9 9 0 4 7 3 2 7]]\n",
      "[[5 0 2]\n",
      " [3 7 0]]\n",
      "[[5 0 3]\n",
      " [2 4 7]]\n",
      "[[5 3 7 3]\n",
      " [2 7 8 1]\n",
      " [7 8 5 8]]\n"
     ]
    }
   ],
   "source": [
    "# 슬라이싱 다차원 배열 = arr[start1:stop1:간격1, start2:stop2:간격2]\n",
    "\n",
    "np.random.seed(0)\n",
    "arr = np.random.randint(10, size=(6,8))\n",
    "print(arr)\n",
    "\n",
    "arr_sub = arr[3:5, 4:7]\n",
    "print(arr_sub)\n",
    "\n",
    "arr_z = arr[:2, :3]\n",
    "arr_x = arr[:3, ::2]\n",
    "\n",
    "print(arr_z)\n",
    "print(arr_x)"
   ]
  },
  {
   "cell_type": "code",
   "execution_count": 52,
   "id": "c18f983e-7fad-4273-9985-f3d0c54a19bb",
   "metadata": {},
   "outputs": [
    {
     "name": "stdout",
     "output_type": "stream",
     "text": [
      "[[5 8 9 5]\n",
      " [0 0 1 7]\n",
      " [6 9 2 4]] \n",
      "\n",
      "[[5 8]\n",
      " [0 0]] \n",
      "\n",
      "[[99  8  9  5]\n",
      " [ 0  0  1  7]\n",
      " [ 6  9  2  4]]\n"
     ]
    }
   ],
   "source": [
    "np.random.seed(1)\n",
    "arr = np.random.randint(10, size=(3,4))\n",
    "print(arr, \"\\n\")\n",
    "\n",
    "arr_sub = arr[:2, :2]\n",
    "print(arr_sub,\"\\n\")\n",
    "\n",
    "arr_sub[0,0] = 99\n",
    "print(arr)"
   ]
  },
  {
   "cell_type": "code",
   "execution_count": 57,
   "id": "cc3e9d88-81cf-47e4-8da9-2dcee642055c",
   "metadata": {},
   "outputs": [
    {
     "name": "stdout",
     "output_type": "stream",
     "text": [
      "[[5 8 9 5]\n",
      " [0 0 1 7]\n",
      " [6 9 2 4]]\n",
      "[[5 8]\n",
      " [0 0]] \n",
      "\n",
      "[[5 8 9 5]\n",
      " [0 0 1 7]\n",
      " [6 9 2 4]]\n"
     ]
    }
   ],
   "source": [
    "# .copy()\n",
    "\n",
    "np.random.seed(1)\n",
    "arr = np.random.randint(10, size=(3,4))\n",
    "print(arr)\n",
    "arr_sub = arr[:2, :2].copy()\n",
    "print(arr_sub,\"\\n\")\n",
    "\n",
    "arr_sub[0, 0] = 99\n",
    "print(arr)"
   ]
  },
  {
   "cell_type": "code",
   "execution_count": 94,
   "id": "6f6892ac-a157-441f-ae0e-9cce22fee5f9",
   "metadata": {},
   "outputs": [
    {
     "name": "stdout",
     "output_type": "stream",
     "text": [
      "[1 2 3 4 5 6 7 8 9] \n",
      "\n",
      "[[1 2 3]\n",
      " [4 5 6]\n",
      " [7 8 9]]\n"
     ]
    }
   ],
   "source": [
    "# reshape\n",
    "\n",
    "arr = np.arange(1, 10)\n",
    "print(arr, \"\\n\")\n",
    "\n",
    "grid = arr.reshape(3, 3)\n",
    "print(grid)"
   ]
  },
  {
   "cell_type": "code",
   "execution_count": 62,
   "id": "cffd3e46-faf8-4689-8168-3461452d8d3d",
   "metadata": {},
   "outputs": [
    {
     "name": "stdout",
     "output_type": "stream",
     "text": [
      "[1 2 3]\n",
      "arr.ndim = 1\n",
      "arr.shape= (3,)\n",
      "[[1 2 3]]\n",
      "arr_new.ndim = 2\n",
      "arr_new.shape= (1, 3)\n"
     ]
    }
   ],
   "source": [
    "# .newaxis\n",
    "\n",
    "arr = np.array([1, 2, 3])\n",
    "print(arr)\n",
    "print(\"arr.ndim =\", arr.ndim)\n",
    "print(\"arr.shape=\", arr.shape)\n",
    "\n",
    "arr_new = arr[np.newaxis, :]\n",
    "print(arr_new)\n",
    "print(\"arr_new.ndim =\", arr_new.ndim)\n",
    "print(\"arr_new.shape=\", arr_new.shape)"
   ]
  },
  {
   "cell_type": "code",
   "execution_count": 73,
   "id": "2df4e8f6-9760-4550-b710-b61a39c4ce41",
   "metadata": {},
   "outputs": [
    {
     "name": "stdout",
     "output_type": "stream",
     "text": [
      "[[1 2 3]\n",
      " [1 2 3]\n",
      " [4 5 6]\n",
      " [4 5 6]\n",
      " [7 8 9]\n",
      " [7 8 9]] \n",
      "\n",
      "[[1 2 3]\n",
      " [1 2 3]\n",
      " [4 5 6]\n",
      " [4 5 6]\n",
      " [7 8 9]\n",
      " [7 8 9]] \n",
      "\n",
      "[[1 2 3 4 5 6 7 8 9]\n",
      " [1 2 3 4 5 6 7 8 9]] \n",
      "\n"
     ]
    }
   ],
   "source": [
    "# np.concatenate\n",
    "\n",
    "arr_1 = np.array([[1, 2, 3],[1, 2, 3]])\n",
    "arr_2 = np.array([[4, 5, 6],[4 ,5, 6]])\n",
    "arr_3 = np.array([[7, 8, 9],[7, 8, 9]])\n",
    "\n",
    "arr_total = np.concatenate([arr_1, arr_2, arr_3])\n",
    "print(arr_total,\"\\n\")\n",
    "\n",
    "arr_total = np.vstack([arr_1, arr_2, arr_3])\n",
    "print(arr_total, \"\\n\")\n",
    "                             \n",
    "arr_total = np.hstack([arr_1, arr_2, arr_3])\n",
    "print(arr_total, \"\\n\")                          "
   ]
  },
  {
   "cell_type": "code",
   "execution_count": 81,
   "id": "2ef5886c-2464-421c-98d9-deba7180fc62",
   "metadata": {},
   "outputs": [
    {
     "name": "stdout",
     "output_type": "stream",
     "text": [
      "[1, 2, 3, 99, 99, 3, 2, 1] \n",
      "\n",
      "[1 2 3] [99 99] [3 2 1]\n"
     ]
    }
   ],
   "source": [
    "# Splitting\n",
    "\n",
    "arr=[1, 2, 3, 99, 99, 3, 2, 1]\n",
    "print(arr, \"\\n\")\n",
    "\n",
    "arr_1, arr_2, arr_3 = np.split(arr, [3, 5])\n",
    "print(arr_1, arr_2, arr_3)"
   ]
  }
 ],
 "metadata": {
  "kernelspec": {
   "display_name": "Python 3",
   "language": "python",
   "name": "python3"
  },
  "language_info": {
   "codemirror_mode": {
    "name": "ipython",
    "version": 3
   },
   "file_extension": ".py",
   "mimetype": "text/x-python",
   "name": "python",
   "nbconvert_exporter": "python",
   "pygments_lexer": "ipython3",
   "version": "3.8.8"
  }
 },
 "nbformat": 4,
 "nbformat_minor": 5
}
