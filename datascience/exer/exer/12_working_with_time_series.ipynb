{
 "cells": [
  {
   "cell_type": "code",
   "execution_count": 3,
   "id": "cdcdf84d",
   "metadata": {},
   "outputs": [
    {
     "name": "stdout",
     "output_type": "stream",
     "text": [
      "2021-10-27 00:00:00\n",
      "<class 'datetime.datetime'>\n"
     ]
    }
   ],
   "source": [
    "\"\"\"\n",
    "Native Python dates and times\n",
    "\"\"\"\n",
    "\n",
    "from datetime import datetime\n",
    "\n",
    "t = datetime(year=2021, month=10, day=27)\n",
    "print(t)\n",
    "print(type(t))"
   ]
  },
  {
   "cell_type": "code",
   "execution_count": 6,
   "id": "61c10a2a",
   "metadata": {},
   "outputs": [
    {
     "name": "stdout",
     "output_type": "stream",
     "text": [
      "2021-10-27 00:00:00\n",
      "<class 'datetime.datetime'>\n"
     ]
    }
   ],
   "source": [
    "# Parse a date form a string\n",
    "from dateutil import parser\n",
    "\n",
    "date = parser.parse(\"27th of October, 2021\")\n",
    "print(date)\n",
    "print(type(date))"
   ]
  },
  {
   "cell_type": "code",
   "execution_count": 7,
   "id": "c4590306",
   "metadata": {},
   "outputs": [
    {
     "data": {
      "text/plain": [
       "'Wednesday'"
      ]
     },
     "execution_count": 7,
     "metadata": {},
     "output_type": "execute_result"
    }
   ],
   "source": [
    "# Print the dat of the week\n",
    "\n",
    "date.strftime('%A')"
   ]
  },
  {
   "cell_type": "code",
   "execution_count": 10,
   "id": "7afa0436",
   "metadata": {},
   "outputs": [
    {
     "name": "stdout",
     "output_type": "stream",
     "text": [
      "2021-10-28\n"
     ]
    }
   ],
   "source": [
    "\"\"\"\n",
    "Types Arrays of Times: NumPy's datetime64\n",
    "\"\"\"\n",
    "import numpy as np\n",
    "\n",
    "dates = np.array(['2021-10-27', '2021-10-28'], dtype=np.datetime64)\n",
    "type(dates[0])\n",
    "\n",
    "date = np.datetime64('2021-10-28')\n",
    "print(date)"
   ]
  },
  {
   "cell_type": "code",
   "execution_count": 12,
   "id": "0f541db6-463c-4770-9cc2-84f331d0a42f",
   "metadata": {},
   "outputs": [
    {
     "data": {
      "text/plain": [
       "array(['2021-10-28', '2021-10-29', '2021-10-30', '2021-10-31',\n",
       "       '2021-11-01', '2021-11-02', '2021-11-03'], dtype='datetime64[D]')"
      ]
     },
     "execution_count": 12,
     "metadata": {},
     "output_type": "execute_result"
    }
   ],
   "source": [
    "date + np.arange(7) # [0, 1, 2,  .. 6]"
   ]
  },
  {
   "cell_type": "code",
   "execution_count": 14,
   "id": "a1c438ca-db54-46bc-9f0e-b9a24789a5b5",
   "metadata": {},
   "outputs": [
    {
     "name": "stdout",
     "output_type": "stream",
     "text": [
      "2021-10-28T11:38\n"
     ]
    }
   ],
   "source": [
    "t = np.datetime64(\"2021-10-28 11:38\")\n",
    "print(t)"
   ]
  },
  {
   "cell_type": "code",
   "execution_count": 16,
   "id": "a89d723d-1af1-4503-bc0c-de1639296b60",
   "metadata": {},
   "outputs": [
    {
     "data": {
      "text/plain": [
       "numpy.datetime64('2021-10-28T11:38:10.230000000')"
      ]
     },
     "execution_count": 16,
     "metadata": {},
     "output_type": "execute_result"
    }
   ],
   "source": [
    "np.datetime64('2021-10-28 11:38:10.23','ns')"
   ]
  },
  {
   "cell_type": "code",
   "execution_count": 18,
   "id": "becd9a5a-b09d-4b6e-bf9f-6982532d1336",
   "metadata": {},
   "outputs": [
    {
     "name": "stdout",
     "output_type": "stream",
     "text": [
      "2021-10-27 00:00:00\n"
     ]
    }
   ],
   "source": [
    "\"\"\"\n",
    "Dates and Times in Pandas\n",
    "\"\"\"\n",
    "import pandas as pd\n",
    "\n",
    "date = pd.to_datetime('27th of October, 2021')\n",
    "print(date)"
   ]
  },
  {
   "cell_type": "code",
   "execution_count": 20,
   "id": "8094ae5c-760d-4543-9492-764d7693a156",
   "metadata": {},
   "outputs": [
    {
     "data": {
      "text/plain": [
       "'Wednesday'"
      ]
     },
     "execution_count": 20,
     "metadata": {},
     "output_type": "execute_result"
    }
   ],
   "source": [
    "date.strftime('%A')"
   ]
  },
  {
   "cell_type": "code",
   "execution_count": 23,
   "id": "45ee097a-aa9d-4081-bec6-c88484eed723",
   "metadata": {},
   "outputs": [
    {
     "data": {
      "text/plain": [
       "DatetimeIndex([          '2021-10-27 00:00:00',\n",
       "               '2021-10-27 00:00:00.000000001',\n",
       "               '2021-10-27 00:00:00.000000002',\n",
       "               '2021-10-27 00:00:00.000000003',\n",
       "               '2021-10-27 00:00:00.000000004',\n",
       "               '2021-10-27 00:00:00.000000005',\n",
       "               '2021-10-27 00:00:00.000000006'],\n",
       "              dtype='datetime64[ns]', freq=None)"
      ]
     },
     "execution_count": 23,
     "metadata": {},
     "output_type": "execute_result"
    }
   ],
   "source": [
    "date + pd.to_timedelta(np.arange(7))"
   ]
  },
  {
   "cell_type": "code",
   "execution_count": 28,
   "id": "31bf4840-e4ab-4381-8505-45cab67bffc9",
   "metadata": {},
   "outputs": [
    {
     "name": "stdout",
     "output_type": "stream",
     "text": [
      "DatetimeIndex(['2021-10-27', '2021-10-28', '2021-10-29', '2021-10-30',\n",
      "               '2021-10-31', '2021-11-01', '2021-11-02'],\n",
      "              dtype='datetime64[ns]', freq=None)\n",
      "2021-10-27    0\n",
      "2021-10-28    1\n",
      "2021-10-29    2\n",
      "2021-10-30    3\n",
      "2021-10-31    4\n",
      "2021-11-01    5\n",
      "2021-11-02    6\n",
      "dtype: int64\n"
     ]
    },
    {
     "data": {
      "text/plain": [
       "2021-10-27    0\n",
       "2021-10-28    1\n",
       "2021-10-29    2\n",
       "2021-10-30    3\n",
       "2021-10-31    4\n",
       "dtype: int64"
      ]
     },
     "execution_count": 28,
     "metadata": {},
     "output_type": "execute_result"
    }
   ],
   "source": [
    "\"\"\"\n",
    "Pandas Time Seires: Indexing by Time\n",
    "\"\"\"\n",
    "\n",
    "ind = pd.DatetimeIndex([\"2021-10-27\",\"2021-10-28\",\"2021-10-29\",\"2021-10-30\",\"2021-10-31\",\"2021-11-01\",\"2021-11-02\"])\n",
    "\n",
    "print(ind)\n",
    "\n",
    "ser = pd.Series([0,1,2,3,4,5,6],index=ind)\n",
    "print(ser)\n",
    "\n",
    "ser['2021-10-27':'2021-10-31']"
   ]
  },
  {
   "cell_type": "code",
   "execution_count": 34,
   "id": "40085717-c9bb-432c-b07a-6514bf557c99",
   "metadata": {},
   "outputs": [
    {
     "data": {
      "text/plain": [
       "2021-10-27    0\n",
       "2021-10-28    1\n",
       "2021-10-29    2\n",
       "2021-10-30    3\n",
       "2021-10-31    4\n",
       "2021-11-01    5\n",
       "2021-11-02    6\n",
       "dtype: int64"
      ]
     },
     "execution_count": 34,
     "metadata": {},
     "output_type": "execute_result"
    }
   ],
   "source": [
    "#ser['2021-11']\n",
    "ser['2021']"
   ]
  },
  {
   "cell_type": "code",
   "execution_count": 36,
   "id": "bb61448c-4f22-4b1b-8235-40575cf87e82",
   "metadata": {},
   "outputs": [
    {
     "name": "stdout",
     "output_type": "stream",
     "text": [
      "DatetimeIndex(['2015-07-03', '2015-07-04', '2015-07-06', '2015-07-07',\n",
      "               '2015-07-08'],\n",
      "              dtype='datetime64[ns]', freq=None)\n"
     ]
    }
   ],
   "source": [
    "\"\"\"\n",
    "Pandas Time Series Data Structures\n",
    "\"\"\"\n",
    "\n",
    "# Timestamp and DatetimeIndex\n",
    "\n",
    "dates = pd.to_datetime([datetime(2015, 7, 3),\n",
    "                      \"4th of July, 2015\",\n",
    "                      '2015-Jul-6',\n",
    "                      '07-07-2015',\n",
    "                      '20150708'])\n",
    "print(dates)"
   ]
  },
  {
   "cell_type": "code",
   "execution_count": 38,
   "id": "05a9ad73-db58-439c-8437-44d5fabf1fcb",
   "metadata": {},
   "outputs": [
    {
     "data": {
      "text/plain": [
       "PeriodIndex(['2015-06-29/2015-07-05', '2015-06-29/2015-07-05',\n",
       "             '2015-07-06/2015-07-12', '2015-07-06/2015-07-12',\n",
       "             '2015-07-06/2015-07-12'],\n",
       "            dtype='period[W-SUN]', freq='W-SUN')"
      ]
     },
     "execution_count": 38,
     "metadata": {},
     "output_type": "execute_result"
    }
   ],
   "source": [
    "# DatetimeIndex -> PeriodIndex with to_period()\n",
    "\n",
    "dates.to_period('W')"
   ]
  },
  {
   "cell_type": "code",
   "execution_count": 39,
   "id": "0c3414ab-69a3-477e-b68a-10c66d6fdec9",
   "metadata": {},
   "outputs": [
    {
     "data": {
      "text/plain": [
       "TimedeltaIndex(['0 days', '1 days', '3 days', '4 days', '5 days'], dtype='timedelta64[ns]', freq=None)"
      ]
     },
     "execution_count": 39,
     "metadata": {},
     "output_type": "execute_result"
    }
   ],
   "source": [
    "# TimedeltaIndex\n",
    "\n",
    "dates - dates[0]"
   ]
  },
  {
   "cell_type": "code",
   "execution_count": 40,
   "id": "1165f123-b1ee-472c-85b5-90046eb29e1f",
   "metadata": {},
   "outputs": [
    {
     "data": {
      "text/plain": [
       "DatetimeIndex(['2021-10-27', '2021-10-28', '2021-10-29', '2021-10-30',\n",
       "               '2021-10-31'],\n",
       "              dtype='datetime64[ns]', freq='D')"
      ]
     },
     "execution_count": 40,
     "metadata": {},
     "output_type": "execute_result"
    }
   ],
   "source": [
    "\"\"\"\n",
    "Regular Sequences\n",
    "\"\"\"\n",
    "\n",
    "# pd.date_range(). default freq: day\n",
    "\n",
    "pd.date_range('2021-10-27', '2021-10-31')"
   ]
  },
  {
   "cell_type": "code",
   "execution_count": 42,
   "id": "759f0847-ca0f-49d2-90c4-2a66f652082c",
   "metadata": {},
   "outputs": [
    {
     "data": {
      "text/plain": [
       "DatetimeIndex(['2021-10-27', '2021-10-28', '2021-10-29', '2021-10-30',\n",
       "               '2021-10-31'],\n",
       "              dtype='datetime64[ns]', freq='D')"
      ]
     },
     "execution_count": 42,
     "metadata": {},
     "output_type": "execute_result"
    }
   ],
   "source": [
    "# Use startpoint and num. of periods\n",
    "\n",
    "pd.date_range('2021-10-27', periods=5)"
   ]
  },
  {
   "cell_type": "code",
   "execution_count": 44,
   "id": "661f101a-7989-4ea1-a6ca-4a428c5a4d5e",
   "metadata": {},
   "outputs": [
    {
     "data": {
      "text/plain": [
       "DatetimeIndex(['2021-10-27 00:00:00', '2021-10-27 01:00:00',\n",
       "               '2021-10-27 02:00:00', '2021-10-27 03:00:00',\n",
       "               '2021-10-27 04:00:00', '2021-10-27 05:00:00',\n",
       "               '2021-10-27 06:00:00', '2021-10-27 07:00:00',\n",
       "               '2021-10-27 08:00:00', '2021-10-27 09:00:00',\n",
       "               '2021-10-27 10:00:00', '2021-10-27 11:00:00'],\n",
       "              dtype='datetime64[ns]', freq='H')"
      ]
     },
     "execution_count": 44,
     "metadata": {},
     "output_type": "execute_result"
    }
   ],
   "source": [
    "# Change the frequency\n",
    "\n",
    "pd.date_range('2021-10-27', periods=12, freq='H')"
   ]
  },
  {
   "cell_type": "code",
   "execution_count": 46,
   "id": "7fbe2d75-72bd-4580-8f2d-b2c462e2c712",
   "metadata": {},
   "outputs": [
    {
     "data": {
      "text/plain": [
       "PeriodIndex(['2021-10', '2021-11', '2021-12', '2022-01', '2022-02', '2022-03',\n",
       "             '2022-04', '2022-05', '2022-06', '2022-07', '2022-08', '2022-09'],\n",
       "            dtype='period[M]', freq='M')"
      ]
     },
     "execution_count": 46,
     "metadata": {},
     "output_type": "execute_result"
    }
   ],
   "source": [
    "# pd.period_range()\n",
    "\n",
    "pd.period_range('2021-10', periods=12, freq='M')"
   ]
  },
  {
   "cell_type": "code",
   "execution_count": 47,
   "id": "472f75f4-1b04-43dc-b380-11770a070d17",
   "metadata": {},
   "outputs": [
    {
     "data": {
      "text/plain": [
       "TimedeltaIndex(['0 days 00:00:00', '0 days 01:00:00', '0 days 02:00:00',\n",
       "                '0 days 03:00:00', '0 days 04:00:00', '0 days 05:00:00',\n",
       "                '0 days 06:00:00', '0 days 07:00:00', '0 days 08:00:00',\n",
       "                '0 days 09:00:00'],\n",
       "               dtype='timedelta64[ns]', freq='H')"
      ]
     },
     "execution_count": 47,
     "metadata": {},
     "output_type": "execute_result"
    }
   ],
   "source": [
    "# pd.timedelta_range()\n",
    "\n",
    "pd.timedelta_range(0, periods=10, freq='H')"
   ]
  }
 ],
 "metadata": {
  "kernelspec": {
   "display_name": "Python 3",
   "language": "python",
   "name": "python3"
  },
  "language_info": {
   "codemirror_mode": {
    "name": "ipython",
    "version": 3
   },
   "file_extension": ".py",
   "mimetype": "text/x-python",
   "name": "python",
   "nbconvert_exporter": "python",
   "pygments_lexer": "ipython3",
   "version": "3.8.8"
  }
 },
 "nbformat": 4,
 "nbformat_minor": 5
}
