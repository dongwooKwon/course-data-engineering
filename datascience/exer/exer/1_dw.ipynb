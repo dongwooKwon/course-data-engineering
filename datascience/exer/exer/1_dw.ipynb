{
 "cells": [
  {
   "cell_type": "code",
   "execution_count": 12,
   "id": "1f846d9b-a778-41f1-921f-88e9e84338eb",
   "metadata": {},
   "outputs": [
    {
     "name": "stdout",
     "output_type": "stream",
     "text": [
      "hello world\n",
      "100\n",
      "3.14\n",
      "My name is Dong woo!\n"
     ]
    }
   ],
   "source": [
    "print(\"hello world\")\n",
    "print(100)\n",
    "pi = 3.14\n",
    "print(pi)\n",
    "\n",
    "intro = \"My name is \"\n",
    "name = \"Dong woo\"\n",
    "print(intro + name+\"!\")"
   ]
  },
  {
   "cell_type": "code",
   "execution_count": 24,
   "id": "ab6d076f-6ff7-417d-885c-8ae94d40f77b",
   "metadata": {},
   "outputs": [],
   "source": [
    "#나를 표현할 수 있는 정보 세 가지 이상을 변수로 선언하시오.\n",
    "user_name = \"Dong woo\"\n",
    "user_id = 201855062\n",
    "user_email = \"ababcc99@hs.ac.kr\"\n",
    "is_student = true"
   ]
  },
  {
   "cell_type": "code",
   "execution_count": 14,
   "id": "7df8a097-b959-4c41-accb-c0c65cafaa4e",
   "metadata": {},
   "outputs": [],
   "source": [
    "\"\"\"\n",
    "Data Types : Integers\n",
    "\"\"\"\n",
    "\n",
    "#집에 있는 세 가지 이상의 정수 변수로 표현하시오.\n",
    "\n",
    "computers = 3\n",
    "chairs = 7\n",
    "sofas = 1"
   ]
  },
  {
   "cell_type": "code",
   "execution_count": 15,
   "id": "ab61616e-c5e2-4807-b9d1-fb6541c64f2f",
   "metadata": {},
   "outputs": [],
   "source": [
    "'''\n",
    "Data Types: Real Numbers\n",
    "'''\n",
    "\n",
    "# 본인이 알고있는 세 개의 실수를 변수로 정의하시오.\n",
    "\n",
    "user_weight = 65.5\n",
    "PI = 3.14\n",
    "user_height = 171.5"
   ]
  },
  {
   "cell_type": "code",
   "execution_count": 16,
   "id": "4cd2590c-49e6-4c4b-bb67-111933d443f7",
   "metadata": {},
   "outputs": [
    {
     "name": "stdout",
     "output_type": "stream",
     "text": [
      "LOLSonnyChange favors the prepared mind\n"
     ]
    }
   ],
   "source": [
    "'''\n",
    "Data Types: Strings\n",
    "'''\n",
    "\n",
    "favorite_game = \"LOL\"\n",
    "favorite_athlete = 'Sonny'\n",
    "favorite_motto = \"Change favors the prepared mind\"\n",
    "\n",
    "favorites = favorite_game + favorite_athlete + favorite_motto\n",
    "\n",
    "print(favorites)"
   ]
  },
  {
   "cell_type": "code",
   "execution_count": 20,
   "id": "b60cc357-970f-49cb-b0ef-895ba103205d",
   "metadata": {},
   "outputs": [
    {
     "name": "stdout",
     "output_type": "stream",
     "text": [
      "0\n"
     ]
    }
   ],
   "source": [
    "\"\"\"\n",
    "x-Equals Operations\n",
    "\"\"\"\n",
    "a= 2\n",
    "a -= 2\n",
    "print(a)"
   ]
  },
  {
   "cell_type": "code",
   "execution_count": 29,
   "id": "a7439b1d-5408-4796-b1be-a58defb75ded",
   "metadata": {},
   "outputs": [
    {
     "ename": "NameError",
     "evalue": "name 'my_name' is not defined",
     "output_type": "error",
     "traceback": [
      "\u001b[1;31m---------------------------------------------------------------------------\u001b[0m",
      "\u001b[1;31mNameError\u001b[0m                                 Traceback (most recent call last)",
      "\u001b[1;32m<ipython-input-29-d3014f2fbfe5>\u001b[0m in \u001b[0;36m<module>\u001b[1;34m\u001b[0m\n\u001b[0;32m      5\u001b[0m \u001b[1;31m# Name Erorr\u001b[0m\u001b[1;33m\u001b[0m\u001b[1;33m\u001b[0m\u001b[1;33m\u001b[0m\u001b[0m\n\u001b[0;32m      6\u001b[0m \u001b[1;33m\u001b[0m\u001b[0m\n\u001b[1;32m----> 7\u001b[1;33m \u001b[0mprint\u001b[0m\u001b[1;33m(\u001b[0m\u001b[0mmy_name\u001b[0m\u001b[1;33m)\u001b[0m\u001b[1;33m\u001b[0m\u001b[1;33m\u001b[0m\u001b[0m\n\u001b[0m\u001b[0;32m      8\u001b[0m \u001b[0mmy_name\u001b[0m \u001b[1;33m=\u001b[0m \u001b[1;34m\"Dong woo\"\u001b[0m\u001b[1;33m\u001b[0m\u001b[1;33m\u001b[0m\u001b[0m\n",
      "\u001b[1;31mNameError\u001b[0m: name 'my_name' is not defined"
     ]
    }
   ],
   "source": [
    "\"\"\"\n",
    "Erorrs\n",
    "\"\"\"\n",
    "\n",
    "# Name Erorr\n",
    "\n",
    "print(my_name)\n",
    "my_name = \"Dong woo\""
   ]
  },
  {
   "cell_type": "markdown",
   "id": "a454eceb-fecd-4ca7-8cd9-0fb698e610c9",
   "metadata": {},
   "source": [
    "Practice 1:\n",
    "아래 코드들은 무엇을 하는 코드입니다."
   ]
  },
  {
   "cell_type": "code",
   "execution_count": null,
   "id": "8061c534-d412-49b0-a1ba-cb8816e08203",
   "metadata": {},
   "outputs": [],
   "source": []
  }
 ],
 "metadata": {
  "kernelspec": {
   "display_name": "Python 3",
   "language": "python",
   "name": "python3"
  },
  "language_info": {
   "codemirror_mode": {
    "name": "ipython",
    "version": 3
   },
   "file_extension": ".py",
   "mimetype": "text/x-python",
   "name": "python",
   "nbconvert_exporter": "python",
   "pygments_lexer": "ipython3",
   "version": "3.8.8"
  }
 },
 "nbformat": 4,
 "nbformat_minor": 5
}
