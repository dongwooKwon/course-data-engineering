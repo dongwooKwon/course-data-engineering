{
 "cells": [
  {
   "cell_type": "code",
   "execution_count": 3,
   "id": "4fb1905b-b68d-4e07-bd6d-5b5471a5ef71",
   "metadata": {},
   "outputs": [],
   "source": [
    "import numpy as np\n",
    "import pandas as pd\n",
    "from matplotlib import pyplot as plt"
   ]
  },
  {
   "cell_type": "code",
   "execution_count": 23,
   "id": "6ee2180c-3c14-4a6e-99f8-c78a0969531a",
   "metadata": {},
   "outputs": [
    {
     "name": "stdout",
     "output_type": "stream",
     "text": [
      "['1.5' 'string' 'True']\n"
     ]
    }
   ],
   "source": [
    "# Creating a Numpy Array\n",
    "\n",
    "lst = [1.5, \"string\", True]\n",
    "\n",
    "arr = np.array(lst)\n",
    "print(arr)"
   ]
  },
  {
   "cell_type": "code",
   "execution_count": 24,
   "id": "9512c352-3ba7-4501-afe7-c1457eae5a57",
   "metadata": {},
   "outputs": [
    {
     "name": "stdout",
     "output_type": "stream",
     "text": [
      "<U32\n"
     ]
    }
   ],
   "source": [
    "# .dtype attribute\n",
    "print(arr.dtype) # U32 = 여러 타입들이 혼합 되어 있다."
   ]
  },
  {
   "cell_type": "code",
   "execution_count": 35,
   "id": "8eb611eb-5e6d-49e3-83f4-3c1d6499a93a",
   "metadata": {},
   "outputs": [
    {
     "name": "stdout",
     "output_type": "stream",
     "text": [
      "192\n",
      "172\n"
     ]
    }
   ],
   "source": [
    "from sys import getsizeof\n",
    "\n",
    "lst = [1,2,3,4,5,6,7,8,9,10,11,12,13,14,15,16,17]\n",
    "print(getsizeof(lst))\n",
    "\n",
    "arr = np.array(lst)\n",
    "print(getsizeof(arr))"
   ]
  },
  {
   "cell_type": "code",
   "execution_count": 42,
   "id": "f8ecdd4f-7220-486e-b94b-c18ad960c06c",
   "metadata": {},
   "outputs": [
    {
     "name": "stdout",
     "output_type": "stream",
     "text": [
      "[25, 20, 35, 15, 15, 30, 45, 30]\n",
      "[25 20 35 15 15 30 45 30]\n"
     ]
    }
   ],
   "source": [
    "prices = [30, 25, 40, 20, 20, 35, 50, 35]\n",
    "\n",
    "# with a list\n",
    "new_prices = [price - 5 for price in prices]\n",
    "print(new_prices)\n",
    "\n",
    "# wirh a ndarray\n",
    "prices_arr = np.array(prices)\n",
    "prices_arr = prices_arr - 5\n",
    "print(prices_arr)"
   ]
  },
  {
   "cell_type": "code",
   "execution_count": 70,
   "id": "367dbe16-5c1c-4995-b182-d0c3a9f62daa",
   "metadata": {},
   "outputs": [
    {
     "name": "stdout",
     "output_type": "stream",
     "text": [
      "[89 87 74 92 94]\n",
      "[258 279 246 274 270]\n",
      "[86.         93.         82.         91.33333333 90.        ]\n",
      "93\n",
      "[94 88]\n",
      "[[ 92  94  88  91  87]\n",
      " [ 79 100  86  93  91]\n",
      " [ 87  85  72  90  92]]\n",
      "87\n",
      "[87 91 92]\n"
     ]
    }
   ],
   "source": [
    "# 실습\n",
    "\n",
    "test_1 = np.array([92, 94, 88, 91, 87])\n",
    "test_2 = np.array([79, 100, 86, 93, 91])\n",
    "test_3 = np.array([87, 85, 72, 90, 92])\n",
    "\n",
    "test_3_fixed = test_3 + 2\n",
    "print(test_3_fixed)\n",
    "\n",
    "total_grade = test_1 + test_2 + test_3\n",
    "print(total_grade)\n",
    "\n",
    "final_grade = total_grade / 3\n",
    "print(final_grade)\n",
    "\n",
    "jeremy_test_2 = test_2[3]\n",
    "print(jeremy_test_2)\n",
    "\n",
    "manual_adwoa_test_1 = np.array([test_1[1], test_1[2]])\n",
    "print(manual_adwoa_test_1)\n",
    "\n",
    "student_scores = np.array([test_1, test_2, test_3])\n",
    "print(student_scores)\n",
    "\n",
    "print(student_scores[2,0])\n",
    "\n",
    "print(student_scores[:,-1])"
   ]
  },
  {
   "cell_type": "code",
   "execution_count": 77,
   "id": "6231d985-902e-49c8-b6d2-0ccdb147d023",
   "metadata": {},
   "outputs": [
    {
     "name": "stdout",
     "output_type": "stream",
     "text": [
      "[ True False False False False False  True  True  True  True]\n",
      "[10  9  8  9  7]\n",
      "[10  2  2  3  9  8  9  7]\n",
      "[5 7]\n"
     ]
    }
   ],
   "source": [
    "# masking\n",
    "\n",
    "a = np.array([10, 2, 2, 4, 5, 3, 9, 8, 9, 7])\n",
    "mask =a >5\n",
    "print(mask)\n",
    "\n",
    "# select using LogicaL operations\n",
    "\n",
    "selected = a[a > 5]\n",
    "print(selected)\n",
    "\n",
    "# combined LogicaL operations  | &\n",
    "\n",
    "selected = a[(a > 6) | (a < 4)]\n",
    "print(selected)\n",
    "\n",
    "selected = a[(a > 4) & (a < 8)]\n",
    "print(selected)"
   ]
  },
  {
   "cell_type": "code",
   "execution_count": 82,
   "id": "fb993bd5-8133-4511-93b7-e0a9399a7451",
   "metadata": {},
   "outputs": [
    {
     "name": "stdout",
     "output_type": "stream",
     "text": [
      "[79 65 50 63 56 90 85 98 79 51]\n",
      "[50 56 51]\n",
      "[90 85 98]\n",
      "[79 65 63 79]\n"
     ]
    }
   ],
   "source": [
    "#실습2\n",
    "\n",
    "porridge = np.array([79, 65, 50, 63, 56, 90, 85, 98, 79, 51])\n",
    "cold = porridge[porridge < 60]\n",
    "hot = porridge[porridge > 80]\n",
    "just_right = porridge[(porridge >= 60) &  (porridge <= 80)]\n",
    "\n",
    "print(porridge)\n",
    "print(cold)\n",
    "print(hot)\n",
    "print(just_right)"
   ]
  }
 ],
 "metadata": {
  "kernelspec": {
   "display_name": "Python 3",
   "language": "python",
   "name": "python3"
  },
  "language_info": {
   "codemirror_mode": {
    "name": "ipython",
    "version": 3
   },
   "file_extension": ".py",
   "mimetype": "text/x-python",
   "name": "python",
   "nbconvert_exporter": "python",
   "pygments_lexer": "ipython3",
   "version": "3.8.8"
  }
 },
 "nbformat": 4,
 "nbformat_minor": 5
}
