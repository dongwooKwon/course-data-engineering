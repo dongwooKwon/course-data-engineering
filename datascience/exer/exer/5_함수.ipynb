{
 "cells": [
  {
   "cell_type": "code",
   "execution_count": 20,
   "id": "02b4b82f-9590-48df-b794-5e10da06e1f5",
   "metadata": {},
   "outputs": [
    {
     "name": "stdout",
     "output_type": "stream",
     "text": [
      "2020 is a leap year\n"
     ]
    }
   ],
   "source": [
    "\"\"\"\n",
    "리턴 키워드\n",
    "\"\"\"\n",
    "# leap year : 윤년(2월 29일 까지)\n",
    "\n",
    "def check_leap_year(year):\n",
    "    if year % 4 == 0:\n",
    "        return str(year) + \" is a leap year\"\n",
    "    else:\n",
    "        return str(year) + \" is a not leap year\"\n",
    "    \n",
    "result = check_leap_year(2020)\n",
    "print(result)"
   ]
  },
  {
   "cell_type": "code",
   "execution_count": 24,
   "id": "adc9a07e-663f-4049-93c3-a1b5316cdac2",
   "metadata": {},
   "outputs": [
    {
     "name": "stdout",
     "output_type": "stream",
     "text": [
      "9 16 25\n"
     ]
    }
   ],
   "source": [
    "\"\"\"\n",
    "여러 값을 리턴\n",
    "\"\"\"\n",
    "\n",
    "def square_point(x, y, z):\n",
    "    x_squared = x ** 2\n",
    "    y_squared = y ** 2\n",
    "    z_squared = z ** 2\n",
    "    return x_squared, y_squared, z_squared\n",
    "\n",
    "three_squared, four_squared, five_squared = square_point(3, 4, 5)\n",
    "\n",
    "print(three_squared, four_squared, five_squared)"
   ]
  },
  {
   "cell_type": "code",
   "execution_count": 35,
   "id": "1554b662-746b-483c-b7d9-adece9c166af",
   "metadata": {},
   "outputs": [
    {
     "name": "stdout",
     "output_type": "stream",
     "text": [
      "Hello\n"
     ]
    }
   ],
   "source": [
    "\"\"\"\n",
    "전역 변수\n",
    "\"\"\"\n",
    "\n",
    "a = \"Hello\"\n",
    "\n",
    "def prints_a():\n",
    "    print(a)\n",
    "    \n",
    "prints_a()"
   ]
  },
  {
   "cell_type": "code",
   "execution_count": 29,
   "id": "a8d499f7-6468-4487-989d-5fbe397a8e11",
   "metadata": {},
   "outputs": [
    {
     "name": "stdout",
     "output_type": "stream",
     "text": [
      "Hello\n"
     ]
    },
    {
     "ename": "NameError",
     "evalue": "name 'b' is not defined",
     "output_type": "error",
     "traceback": [
      "\u001b[1;31m---------------------------------------------------------------------------\u001b[0m",
      "\u001b[1;31mNameError\u001b[0m                                 Traceback (most recent call last)",
      "\u001b[1;32m<ipython-input-29-c2b9137c1149>\u001b[0m in \u001b[0;36m<module>\u001b[1;34m\u001b[0m\n\u001b[0;32m      8\u001b[0m \u001b[1;33m\u001b[0m\u001b[0m\n\u001b[0;32m      9\u001b[0m \u001b[0mprints_a\u001b[0m\u001b[1;33m(\u001b[0m\u001b[1;33m)\u001b[0m\u001b[1;33m\u001b[0m\u001b[1;33m\u001b[0m\u001b[0m\n\u001b[1;32m---> 10\u001b[1;33m \u001b[0mprint\u001b[0m\u001b[1;33m(\u001b[0m\u001b[0mb\u001b[0m\u001b[1;33m)\u001b[0m  \u001b[1;31m# 함수 바깥에서 써서 오류가 남\u001b[0m\u001b[1;33m\u001b[0m\u001b[1;33m\u001b[0m\u001b[0m\n\u001b[0m",
      "\u001b[1;31mNameError\u001b[0m: name 'b' is not defined"
     ]
    }
   ],
   "source": [
    "\"\"\"\n",
    "지역 변수\n",
    "\"\"\"\n",
    "\n",
    "def prints_a():\n",
    "    b = \"Hello\"\n",
    "    print(b)\n",
    "    \n",
    "prints_a()\n",
    "print(b)  # 함수 바깥에서 써서 오류가 남"
   ]
  },
  {
   "cell_type": "code",
   "execution_count": 32,
   "id": "4e1d8e0d-782f-47d2-bf41-0a71941685a5",
   "metadata": {},
   "outputs": [
    {
     "name": "stdout",
     "output_type": "stream",
     "text": [
      "2\n"
     ]
    }
   ],
   "source": [
    "\"\"\"\n",
    "전역 변수와 지역 변수가 다 있을때의 우선순위\n",
    "\"\"\"\n",
    "\n",
    "a = 5 #전역 변수\n",
    "\n",
    "def f1():\n",
    "    a = 2 # 지역 변수\n",
    "    print(a)\n",
    "    \n",
    "f1() #지역변수가 우선순위"
   ]
  },
  {
   "cell_type": "code",
   "execution_count": 42,
   "id": "cdb022c8-e649-40dc-ab55-1736f1c287d9",
   "metadata": {},
   "outputs": [
    {
     "name": "stdout",
     "output_type": "stream",
     "text": [
      "height = 1\n",
      "width = 2\n",
      "depth = 3\n",
      "6\n",
      "height = 2\n",
      "width = 1\n",
      "depth = 3\n",
      "6\n",
      "height = 1\n",
      "width = 2\n",
      "depth = 3\n",
      "6\n",
      "height = 1\n",
      "width = 2\n",
      "depth = 5\n",
      "10\n"
     ]
    }
   ],
   "source": [
    "def findvolume(height, width, depth=3):\n",
    "    print(\"height = \" + str(height)) # srt(): 어떤 값을 문자열 값으로 변환\n",
    "    print(\"width = \" + str(width))\n",
    "    print(\"depth = \" + str(depth))\n",
    "    return height * width * depth\n",
    "\n",
    "# 예제: 높이:1, 넓이:2, 깊이:3\n",
    "print(findvolume(1, 2, 3))\n",
    "print(findvolume(2, 1, 3))\n",
    "print(findvolume(width=2, height=1))\n",
    "print(findvolume(width=2, height=1, depth=5))"
   ]
  }
 ],
 "metadata": {
  "kernelspec": {
   "display_name": "Python 3",
   "language": "python",
   "name": "python3"
  },
  "language_info": {
   "codemirror_mode": {
    "name": "ipython",
    "version": 3
   },
   "file_extension": ".py",
   "mimetype": "text/x-python",
   "name": "python",
   "nbconvert_exporter": "python",
   "pygments_lexer": "ipython3",
   "version": "3.8.8"
  }
 },
 "nbformat": 4,
 "nbformat_minor": 5
}
