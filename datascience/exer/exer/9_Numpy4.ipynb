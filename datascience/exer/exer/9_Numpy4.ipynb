{
 "cells": [
  {
   "cell_type": "code",
   "execution_count": 107,
   "id": "acc98f58-19ac-4bf6-b93e-918706f2f0f9",
   "metadata": {},
   "outputs": [],
   "source": [
    "import numpy as np"
   ]
  },
  {
   "cell_type": "code",
   "execution_count": 108,
   "id": "9e67979a-0d7f-4d71-95cd-e59f40b25d84",
   "metadata": {},
   "outputs": [
    {
     "name": "stdout",
     "output_type": "stream",
     "text": [
      "[[1. 1. 1.]\n",
      " [1. 1. 1.]\n",
      " [1. 1. 1.]] \n",
      "\n",
      "[0 1 2] \n",
      "\n",
      "[[1. 2. 3.]\n",
      " [1. 2. 3.]\n",
      " [1. 2. 3.]]\n"
     ]
    }
   ],
   "source": [
    "# Broadcasting 2D + 1D array\n",
    "\n",
    "x = np.ones([3,3])\n",
    "print(x,\"\\n\")\n",
    "y = np.arange(3)\n",
    "print(y,\"\\n\")\n",
    "print(x+y)"
   ]
  },
  {
   "cell_type": "code",
   "execution_count": 109,
   "id": "5a778097-a17e-4808-8d59-1a93f888e807",
   "metadata": {},
   "outputs": [
    {
     "name": "stdout",
     "output_type": "stream",
     "text": [
      "[0 1 2] \n",
      "\n",
      "[[0]\n",
      " [1]\n",
      " [2]] \n",
      "\n",
      "[0 1 2] \n",
      "\n",
      "[[0 1 2]\n",
      " [1 2 3]\n",
      " [2 3 4]]\n"
     ]
    }
   ],
   "source": [
    "# Broadcast both arrays\n",
    "\n",
    "a = np.arange(3)\n",
    "print(a,\"\\n\")\n",
    "a = a[:,np.newaxis] # newaxis = 새로운 차원을 추가\n",
    "print(a,\"\\n\")\n",
    "b = np.arange(3)\n",
    "print(b,\"\\n\")\n",
    "print(a+b)"
   ]
  },
  {
   "cell_type": "code",
   "execution_count": 110,
   "id": "2a18b822-04b1-4766-9136-7cd320c88811",
   "metadata": {},
   "outputs": [
    {
     "name": "stdout",
     "output_type": "stream",
     "text": [
      "[[1. 1. 1.]\n",
      " [1. 1. 1.]]\n",
      "[0 1 2]\n",
      "[[1. 2. 3.]\n",
      " [1. 2. 3.]]\n"
     ]
    }
   ],
   "source": [
    "\"\"\"\n",
    "Broadcasting Rules\n",
    "\"\"\"\n",
    "\n",
    "a = np.ones((2,3))\n",
    "print(a)\n",
    "\n",
    "b = np.arange(3)\n",
    "print(b)\n",
    "\n",
    "print(a+b)"
   ]
  },
  {
   "cell_type": "code",
   "execution_count": 111,
   "id": "f39b09b2-22ad-4cc6-b17e-5fc9cb31345e",
   "metadata": {},
   "outputs": [
    {
     "name": "stdout",
     "output_type": "stream",
     "text": [
      "[1 2 3 4 5]\n",
      "[ True  True False False False]\n",
      "[False False  True  True  True]\n",
      "[ True  True False  True  True]\n",
      "[False False  True False False]\n"
     ]
    }
   ],
   "source": [
    "\"\"\"\n",
    "Comparisons, Masks, and Boolean Logic\n",
    "\"\"\"\n",
    "\n",
    "x = np.array([1,2,3,4,5])\n",
    "print(x)\n",
    "\n",
    "print(x < 3)\n",
    "print(x >= 3)\n",
    "print(x != 3)\n",
    "print(x == 3)"
   ]
  },
  {
   "cell_type": "code",
   "execution_count": 112,
   "id": "336c6993-ed94-4415-bbfa-59b2f72ad0f2",
   "metadata": {},
   "outputs": [
    {
     "name": "stdout",
     "output_type": "stream",
     "text": [
      "[[5 0 3 3]\n",
      " [7 9 3 5]\n",
      " [2 4 7 6]] \n",
      "\n",
      "[[ True  True  True  True]\n",
      " [False False  True  True]\n",
      " [ True  True False False]]\n"
     ]
    }
   ],
   "source": [
    "# bool maskong for multi-dimensional arrays\n",
    "\n",
    "np.random.seed(0)\n",
    "x = np.random.randint(10, size=(3, 4)) # 0~9까지의 정수 , 3by4 배열\n",
    "print(x, \"\\n\")\n",
    "\n",
    "print(x < 6)"
   ]
  },
  {
   "cell_type": "code",
   "execution_count": 113,
   "id": "4a03f4cf-73d7-49c5-99b6-9c921a312297",
   "metadata": {},
   "outputs": [
    {
     "name": "stdout",
     "output_type": "stream",
     "text": [
      "[[5 0 3 3]\n",
      " [7 9 3 5]\n",
      " [2 4 7 6]] \n",
      "\n",
      "8\n",
      "8\n",
      "False\n",
      "False\n"
     ]
    }
   ],
   "source": [
    "\"\"\"\n",
    "Working with Boolean Arrays\n",
    "\"\"\"\n",
    "\n",
    "print(x,\"\\n\")\n",
    "print(np.count_nonzero(x < 6)) # x < 6 의 총 갯수\n",
    "print(np.sum(x < 6))\n",
    "print(np.any(x > 9))\n",
    "print(np.all( x > 1))"
   ]
  },
  {
   "cell_type": "code",
   "execution_count": 114,
   "id": "24cfe8c8-90fb-445a-87f1-12e7b9e7fcf8",
   "metadata": {},
   "outputs": [
    {
     "name": "stdout",
     "output_type": "stream",
     "text": [
      "[[5 0 3 3]\n",
      " [7 9 3 5]\n",
      " [2 4 7 6]] \n",
      "\n",
      "[[False  True  True  True]\n",
      " [False False  True False]\n",
      " [ True  True False False]] \n",
      "\n",
      "[0 3 3 3 2 4] \n",
      "\n",
      "2.5\n"
     ]
    }
   ],
   "source": [
    "# Masking operations\n",
    "\n",
    "print(x,\"\\n\")\n",
    "print( x < 5,\"\\n\")\n",
    "print(x[x < 5],\"\\n\")\n",
    "print(np.mean(x[x < 5]))"
   ]
  },
  {
   "cell_type": "code",
   "execution_count": 115,
   "id": "58261797-2d50-4f97-b0ae-b3b9ca02fbd8",
   "metadata": {},
   "outputs": [
    {
     "name": "stdout",
     "output_type": "stream",
     "text": [
      "[37 12 72  9 75  5 79 64 16  1]\n",
      "72 75 79\n",
      "[72 75 79]\n"
     ]
    }
   ],
   "source": [
    "\"\"\"\n",
    "Fancy Indexing\n",
    "\"\"\"\n",
    "\n",
    "np.random.seed(1)\n",
    "x = np.random.randint(100, size=10)\n",
    "print(x)\n",
    "\n",
    "print(x[2], x[4], x[6])\n",
    "\n",
    "ind = [2, 4, 6]\n",
    "print(x[ind])"
   ]
  },
  {
   "cell_type": "code",
   "execution_count": 116,
   "id": "06a45931-87a2-49b1-b4d0-76a1e2a84c57",
   "metadata": {},
   "outputs": [
    {
     "name": "stdout",
     "output_type": "stream",
     "text": [
      "[[8 8 6 2 8]\n",
      " [7 2 1 5 4]\n",
      " [4 5 7 3 6]]\n",
      "[8 5 7]\n"
     ]
    }
   ],
   "source": [
    "# For n-D arrays\n",
    "\n",
    "np.random.seed(2)\n",
    "x = np.random.randint(10, size=(3, 5))\n",
    "print(x)\n",
    "\n",
    "row = [0, 1, 2]\n",
    "col = [1, 3, 2]\n",
    "\n",
    "print(x[row, col])"
   ]
  },
  {
   "cell_type": "code",
   "execution_count": 117,
   "id": "b55b8302-540d-4b81-89fa-b937069b7055",
   "metadata": {},
   "outputs": [
    {
     "name": "stdout",
     "output_type": "stream",
     "text": [
      "[[8 8 6 2 8]\n",
      " [7 2 1 5 4]\n",
      " [4 5 7 3 6]]\n",
      "[[6 8 8]\n",
      " [1 2 4]\n",
      " [7 5 6]]\n"
     ]
    }
   ],
   "source": [
    "# For n-D arrays with broadcasting\n",
    "\n",
    "print(x)\n",
    "row = np.array([0,1,2])\n",
    "col = np.array([2,1,4])\n",
    "\n",
    "print(x[row[:, np.newaxis],col])\n",
    "\n",
    "#broadcasting\n",
    "\n",
    "# row =  0 0 0\n",
    "#        1 1 1\n",
    "#        2 2 2\n",
    "\n",
    "# col =  2 1 4\n",
    "#        2 1 4\n",
    "#        2 1 4\n",
    "\n",
    "# [row,col] = 0,2 0,1 0,4\n",
    "#              1,2 1,1 1,4\n",
    "#              2,2 2,1 2,4\n",
    "\n",
    "# x[row,col] = 6 8 8\n",
    "#              1 2 4\n",
    "#              7 5 6"
   ]
  },
  {
   "cell_type": "code",
   "execution_count": 118,
   "id": "dc8f6357-2e21-44ed-a806-0eafad963aee",
   "metadata": {},
   "outputs": [
    {
     "name": "stdout",
     "output_type": "stream",
     "text": [
      "[[ 1  2  3  4]\n",
      " [ 5  6  7  8]\n",
      " [ 9 10 11 12]] \n",
      "\n",
      "[11  9 10] \n",
      "\n",
      "[[ 7  5  6]\n",
      " [11  9 10]]\n"
     ]
    }
   ],
   "source": [
    "\"\"\"\n",
    "Combined Indexing\n",
    "\"\"\"\n",
    "\n",
    "x = np.arange(1,13).reshape(3,4)\n",
    "print(x,\"\\n\")\n",
    "\n",
    "print(x[2,[2, 0, 1]],\"\\n\")\n",
    "print(x[1:, [2, 0, 1]])"
   ]
  }
 ],
 "metadata": {
  "kernelspec": {
   "display_name": "Python 3",
   "language": "python",
   "name": "python3"
  },
  "language_info": {
   "codemirror_mode": {
    "name": "ipython",
    "version": 3
   },
   "file_extension": ".py",
   "mimetype": "text/x-python",
   "name": "python",
   "nbconvert_exporter": "python",
   "pygments_lexer": "ipython3",
   "version": "3.8.8"
  }
 },
 "nbformat": 4,
 "nbformat_minor": 5
}
