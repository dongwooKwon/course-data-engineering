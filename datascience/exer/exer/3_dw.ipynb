{
 "cells": [
  {
   "cell_type": "code",
   "execution_count": 7,
   "id": "f19bc03e-fc69-4d02-946d-998c83dbc1f3",
   "metadata": {},
   "outputs": [
    {
     "name": "stdout",
     "output_type": "stream",
     "text": [
      "{2, 3, 5, 7, 11}\n",
      "[]\n"
     ]
    }
   ],
   "source": [
    "primes = {2,3,5,7,11,2}\n",
    "print(primes)\n",
    "\n",
    "empty_list = []\n",
    "print(empty_list)"
   ]
  },
  {
   "cell_type": "code",
   "execution_count": 11,
   "id": "24dc288e-aaa9-41f1-bcca-35573ebcdc8b",
   "metadata": {},
   "outputs": [
    {
     "name": "stdout",
     "output_type": "stream",
     "text": [
      "['Jenny', 1, 1.4, True]\n",
      "[['a', 1], ['b', 2]]\n"
     ]
    }
   ],
   "source": [
    "mixed = ['Jenny',1,1.4,True]\n",
    "print(mixed)\n",
    "\n",
    "list_of_list = [['a',1],['b',2]]\n",
    "print(list_of_list)"
   ]
  },
  {
   "cell_type": "code",
   "execution_count": 13,
   "id": "bf64b95d-d741-4c15-bfb7-42512bfdfcbd",
   "metadata": {},
   "outputs": [
    {
     "name": "stdout",
     "output_type": "stream",
     "text": [
      "동우\n",
      "성우\n",
      "영우\n"
     ]
    }
   ],
   "source": [
    "names = ['동우','성우','영우']\n",
    "\n",
    "print(names[0])\n",
    "print(names[1])\n",
    "print(names[2])"
   ]
  },
  {
   "cell_type": "code",
   "execution_count": 17,
   "id": "16e47e04-7a69-4b6c-814d-33796d56e6ff",
   "metadata": {},
   "outputs": [
    {
     "name": "stdout",
     "output_type": "stream",
     "text": [
      "영우\n",
      "성우\n",
      "동우\n"
     ]
    }
   ],
   "source": [
    "print(names[-1])\n",
    "print(names[-2])\n",
    "print(names[-3])"
   ]
  },
  {
   "cell_type": "code",
   "execution_count": 25,
   "id": "671ce00f-99c0-4bb3-abd4-96c7621a6c5b",
   "metadata": {},
   "outputs": [
    {
     "name": "stdout",
     "output_type": "stream",
     "text": [
      "['생활관', '장공관', '필현관', '소통관']\n",
      "['만우관', '장공관', '필현관', '소통관', '송암관', '늦봄관', '장준하통일관']\n"
     ]
    }
   ],
   "source": [
    "hus_buildings = ['만우관','장공관','필현관','소통관','송암관','늦봄관','장준하통일관']\n",
    "building_slice = hus_buildings[:4] # 독립적인 객체\n",
    "building_slice[0] = '생활관' #원본 리스트는 변화 X\n",
    "\n",
    "print(building_slice)  #4번 인덱스인 송암관은 포함되지 않음\n",
    "print(hus_buildings) #원본 리스트는 변화 X"
   ]
  },
  {
   "cell_type": "code",
   "execution_count": 29,
   "id": "411a791d-9880-4239-8c49-1020f5c2aaec",
   "metadata": {},
   "outputs": [
    {
     "name": "stdout",
     "output_type": "stream",
     "text": [
      "[['해우리', '한식', '고s'], ['짜장명가', '중식', '중화비빔밥'], ['찌개동아리', '한식', '제육전골'], ['맘스터치', '양식', '싸이버거']]\n",
      "['해우리', '한식', '해우라면']\n"
     ]
    }
   ],
   "source": [
    "restaurants = [['해우리','한식','고s'],['짜장명가','중식','중화비빔밥'],\n",
    "              ['찌개동아리','한식','제육전골'],['맘스터치','양식','싸이버거']]\n",
    "\n",
    "print(restaurants)\n",
    "\n",
    "restaurants[0][2] = '해우라면'\n",
    "print(restaurants[0])"
   ]
  },
  {
   "cell_type": "code",
   "execution_count": 31,
   "id": "aceffbcc-fd21-48a7-8c86-bdd071431fbf",
   "metadata": {},
   "outputs": [
    {
     "name": "stdout",
     "output_type": "stream",
     "text": [
      "['cake', 'cookie', 'bread', 'biscuit', 'tart']\n"
     ]
    }
   ],
   "source": [
    "items_one = ['cake','cookie','bread']\n",
    "items_two = ['biscuit','tart']\n",
    "\n",
    "total_items = items_one + items_two\n",
    "print(total_items)"
   ]
  },
  {
   "cell_type": "code",
   "execution_count": 45,
   "id": "4917af36-7654-4d16-baff-f0d384e78111",
   "metadata": {},
   "outputs": [
    {
     "name": "stdout",
     "output_type": "stream",
     "text": [
      "5\n",
      "['daisies', 'periwinkle', 'tulips']\n",
      "['daisies', 'periwinkle', 'rose', 'tulips']\n",
      "['daisies', 'rose', 'tulips']\n",
      "['rose', 'tulips']\n",
      "[1, 2, 3, 4]\n",
      "['늦봄관', '만우관', '소통관', '송암관', '장공관', '장준하통일관', '필현관']\n"
     ]
    }
   ],
   "source": [
    "# Len() 리스트 크기를 리턴\n",
    "knasack = [2,4,3,7,10]\n",
    "size= len(knasack)\n",
    "print(size)\n",
    "\n",
    "# append() 아이템을 리스트의 끝에 추가\n",
    "orders = ['daisies','periwinkle']\n",
    "orders.append('tulips')\n",
    "print(orders)\n",
    "\n",
    "# insert() 아이템을 리스트의 특정 위치에 추가\n",
    "orders.insert(2, 'rose')\n",
    "print(orders)\n",
    "\n",
    "# pop() 특청 위치의 아이템을 삭제\n",
    "orders.pop(1)\n",
    "print(orders)\n",
    "\n",
    "# remove() 특정 아이템을 삭제\n",
    "orders.remove('daisies')\n",
    "print(orders)\n",
    "\n",
    "# sort() 정렬된 리스트를 리턴\n",
    "numbers = [4, 2, 1, 3]\n",
    "numbers.sort()\n",
    "print(numbers)\n",
    "\n",
    "hus_buildings = ['만우관','장공관','필현관','소통관','송암관','늦봄관','장준하통일관']\n",
    "hus_buildings.sort()\n",
    "print(hus_buildings)\n",
    "\n"
   ]
  }
 ],
 "metadata": {
  "kernelspec": {
   "display_name": "Python 3",
   "language": "python",
   "name": "python3"
  },
  "language_info": {
   "codemirror_mode": {
    "name": "ipython",
    "version": 3
   },
   "file_extension": ".py",
   "mimetype": "text/x-python",
   "name": "python",
   "nbconvert_exporter": "python",
   "pygments_lexer": "ipython3",
   "version": "3.8.8"
  }
 },
 "nbformat": 4,
 "nbformat_minor": 5
}
